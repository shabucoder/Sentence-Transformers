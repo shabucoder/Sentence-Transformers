{
 "cells": [
  {
   "cell_type": "code",
   "execution_count": 7,
   "metadata": {},
   "outputs": [
    {
     "name": "stderr",
     "output_type": "stream",
     "text": [
      "huggingface/tokenizers: The current process just got forked, after parallelism has already been used. Disabling parallelism to avoid deadlocks...\n",
      "To disable this warning, you can either:\n",
      "\t- Avoid using `tokenizers` before the fork if possible\n",
      "\t- Explicitly set the environment variable TOKENIZERS_PARALLELISM=(true | false)\n"
     ]
    },
    {
     "name": "stdout",
     "output_type": "stream",
     "text": [
      "Requirement already satisfied: sentence-transformers in /Users/sabareeshvangadari/Fetch_Assignment/venv/lib/python3.10/site-packages (3.4.0)\n",
      "Requirement already satisfied: transformers<5.0.0,>=4.41.0 in /Users/sabareeshvangadari/Fetch_Assignment/venv/lib/python3.10/site-packages (from sentence-transformers) (4.48.1)\n",
      "Requirement already satisfied: tqdm in /Users/sabareeshvangadari/Fetch_Assignment/venv/lib/python3.10/site-packages (from sentence-transformers) (4.67.1)\n",
      "Requirement already satisfied: torch>=1.11.0 in /Users/sabareeshvangadari/Fetch_Assignment/venv/lib/python3.10/site-packages (from sentence-transformers) (2.5.1)\n",
      "Requirement already satisfied: scikit-learn in /Users/sabareeshvangadari/Fetch_Assignment/venv/lib/python3.10/site-packages (from sentence-transformers) (1.6.1)\n",
      "Requirement already satisfied: scipy in /Users/sabareeshvangadari/Fetch_Assignment/venv/lib/python3.10/site-packages (from sentence-transformers) (1.15.1)\n",
      "Requirement already satisfied: huggingface-hub>=0.20.0 in /Users/sabareeshvangadari/Fetch_Assignment/venv/lib/python3.10/site-packages (from sentence-transformers) (0.27.1)\n",
      "Requirement already satisfied: Pillow in /Users/sabareeshvangadari/Fetch_Assignment/venv/lib/python3.10/site-packages (from sentence-transformers) (11.1.0)\n",
      "Requirement already satisfied: filelock in /Users/sabareeshvangadari/Fetch_Assignment/venv/lib/python3.10/site-packages (from huggingface-hub>=0.20.0->sentence-transformers) (3.17.0)\n",
      "Requirement already satisfied: fsspec>=2023.5.0 in /Users/sabareeshvangadari/Fetch_Assignment/venv/lib/python3.10/site-packages (from huggingface-hub>=0.20.0->sentence-transformers) (2024.12.0)\n",
      "Requirement already satisfied: packaging>=20.9 in /Users/sabareeshvangadari/Fetch_Assignment/venv/lib/python3.10/site-packages (from huggingface-hub>=0.20.0->sentence-transformers) (24.2)\n",
      "Requirement already satisfied: pyyaml>=5.1 in /Users/sabareeshvangadari/Fetch_Assignment/venv/lib/python3.10/site-packages (from huggingface-hub>=0.20.0->sentence-transformers) (6.0.2)\n",
      "Requirement already satisfied: requests in /Users/sabareeshvangadari/Fetch_Assignment/venv/lib/python3.10/site-packages (from huggingface-hub>=0.20.0->sentence-transformers) (2.32.3)\n",
      "Requirement already satisfied: typing-extensions>=3.7.4.3 in /Users/sabareeshvangadari/Fetch_Assignment/venv/lib/python3.10/site-packages (from huggingface-hub>=0.20.0->sentence-transformers) (4.12.2)\n",
      "Requirement already satisfied: networkx in /Users/sabareeshvangadari/Fetch_Assignment/venv/lib/python3.10/site-packages (from torch>=1.11.0->sentence-transformers) (3.4.2)\n",
      "Requirement already satisfied: jinja2 in /Users/sabareeshvangadari/Fetch_Assignment/venv/lib/python3.10/site-packages (from torch>=1.11.0->sentence-transformers) (3.1.5)\n",
      "Requirement already satisfied: sympy==1.13.1 in /Users/sabareeshvangadari/Fetch_Assignment/venv/lib/python3.10/site-packages (from torch>=1.11.0->sentence-transformers) (1.13.1)\n",
      "Requirement already satisfied: mpmath<1.4,>=1.1.0 in /Users/sabareeshvangadari/Fetch_Assignment/venv/lib/python3.10/site-packages (from sympy==1.13.1->torch>=1.11.0->sentence-transformers) (1.3.0)\n",
      "Requirement already satisfied: numpy>=1.17 in /Users/sabareeshvangadari/Fetch_Assignment/venv/lib/python3.10/site-packages (from transformers<5.0.0,>=4.41.0->sentence-transformers) (2.2.2)\n",
      "Requirement already satisfied: regex!=2019.12.17 in /Users/sabareeshvangadari/Fetch_Assignment/venv/lib/python3.10/site-packages (from transformers<5.0.0,>=4.41.0->sentence-transformers) (2024.11.6)\n",
      "Requirement already satisfied: tokenizers<0.22,>=0.21 in /Users/sabareeshvangadari/Fetch_Assignment/venv/lib/python3.10/site-packages (from transformers<5.0.0,>=4.41.0->sentence-transformers) (0.21.0)\n",
      "Requirement already satisfied: safetensors>=0.4.1 in /Users/sabareeshvangadari/Fetch_Assignment/venv/lib/python3.10/site-packages (from transformers<5.0.0,>=4.41.0->sentence-transformers) (0.5.2)\n",
      "Requirement already satisfied: joblib>=1.2.0 in /Users/sabareeshvangadari/Fetch_Assignment/venv/lib/python3.10/site-packages (from scikit-learn->sentence-transformers) (1.4.2)\n",
      "Requirement already satisfied: threadpoolctl>=3.1.0 in /Users/sabareeshvangadari/Fetch_Assignment/venv/lib/python3.10/site-packages (from scikit-learn->sentence-transformers) (3.5.0)\n",
      "Requirement already satisfied: MarkupSafe>=2.0 in /Users/sabareeshvangadari/Fetch_Assignment/venv/lib/python3.10/site-packages (from jinja2->torch>=1.11.0->sentence-transformers) (3.0.2)\n",
      "Requirement already satisfied: charset-normalizer<4,>=2 in /Users/sabareeshvangadari/Fetch_Assignment/venv/lib/python3.10/site-packages (from requests->huggingface-hub>=0.20.0->sentence-transformers) (3.4.1)\n",
      "Requirement already satisfied: idna<4,>=2.5 in /Users/sabareeshvangadari/Fetch_Assignment/venv/lib/python3.10/site-packages (from requests->huggingface-hub>=0.20.0->sentence-transformers) (3.10)\n",
      "Requirement already satisfied: urllib3<3,>=1.21.1 in /Users/sabareeshvangadari/Fetch_Assignment/venv/lib/python3.10/site-packages (from requests->huggingface-hub>=0.20.0->sentence-transformers) (2.3.0)\n",
      "Requirement already satisfied: certifi>=2017.4.17 in /Users/sabareeshvangadari/Fetch_Assignment/venv/lib/python3.10/site-packages (from requests->huggingface-hub>=0.20.0->sentence-transformers) (2024.12.14)\n",
      "Note: you may need to restart the kernel to use updated packages.\n"
     ]
    }
   ],
   "source": [
    "pip install sentence-transformers\n"
   ]
  },
  {
   "cell_type": "code",
   "execution_count": 8,
   "metadata": {},
   "outputs": [
    {
     "name": "stderr",
     "output_type": "stream",
     "text": [
      "huggingface/tokenizers: The current process just got forked, after parallelism has already been used. Disabling parallelism to avoid deadlocks...\n",
      "To disable this warning, you can either:\n",
      "\t- Avoid using `tokenizers` before the fork if possible\n",
      "\t- Explicitly set the environment variable TOKENIZERS_PARALLELISM=(true | false)\n"
     ]
    },
    {
     "name": "stdout",
     "output_type": "stream",
     "text": [
      "Requirement already satisfied: torch in /Users/sabareeshvangadari/Fetch_Assignment/venv/lib/python3.10/site-packages (2.5.1)\n",
      "Requirement already satisfied: filelock in /Users/sabareeshvangadari/Fetch_Assignment/venv/lib/python3.10/site-packages (from torch) (3.17.0)\n",
      "Requirement already satisfied: typing-extensions>=4.8.0 in /Users/sabareeshvangadari/Fetch_Assignment/venv/lib/python3.10/site-packages (from torch) (4.12.2)\n",
      "Requirement already satisfied: networkx in /Users/sabareeshvangadari/Fetch_Assignment/venv/lib/python3.10/site-packages (from torch) (3.4.2)\n",
      "Requirement already satisfied: jinja2 in /Users/sabareeshvangadari/Fetch_Assignment/venv/lib/python3.10/site-packages (from torch) (3.1.5)\n",
      "Requirement already satisfied: fsspec in /Users/sabareeshvangadari/Fetch_Assignment/venv/lib/python3.10/site-packages (from torch) (2024.12.0)\n",
      "Requirement already satisfied: sympy==1.13.1 in /Users/sabareeshvangadari/Fetch_Assignment/venv/lib/python3.10/site-packages (from torch) (1.13.1)\n",
      "Requirement already satisfied: mpmath<1.4,>=1.1.0 in /Users/sabareeshvangadari/Fetch_Assignment/venv/lib/python3.10/site-packages (from sympy==1.13.1->torch) (1.3.0)\n",
      "Requirement already satisfied: MarkupSafe>=2.0 in /Users/sabareeshvangadari/Fetch_Assignment/venv/lib/python3.10/site-packages (from jinja2->torch) (3.0.2)\n",
      "Note: you may need to restart the kernel to use updated packages.\n"
     ]
    }
   ],
   "source": [
    "pip install torch\n"
   ]
  },
  {
   "cell_type": "code",
   "execution_count": 9,
   "metadata": {},
   "outputs": [
    {
     "name": "stderr",
     "output_type": "stream",
     "text": [
      "huggingface/tokenizers: The current process just got forked, after parallelism has already been used. Disabling parallelism to avoid deadlocks...\n",
      "To disable this warning, you can either:\n",
      "\t- Avoid using `tokenizers` before the fork if possible\n",
      "\t- Explicitly set the environment variable TOKENIZERS_PARALLELISM=(true | false)\n"
     ]
    },
    {
     "name": "stdout",
     "output_type": "stream",
     "text": [
      "Requirement already satisfied: scikit-learn in /Users/sabareeshvangadari/Fetch_Assignment/venv/lib/python3.10/site-packages (1.6.1)\n",
      "Requirement already satisfied: numpy>=1.19.5 in /Users/sabareeshvangadari/Fetch_Assignment/venv/lib/python3.10/site-packages (from scikit-learn) (2.2.2)\n",
      "Requirement already satisfied: scipy>=1.6.0 in /Users/sabareeshvangadari/Fetch_Assignment/venv/lib/python3.10/site-packages (from scikit-learn) (1.15.1)\n",
      "Requirement already satisfied: joblib>=1.2.0 in /Users/sabareeshvangadari/Fetch_Assignment/venv/lib/python3.10/site-packages (from scikit-learn) (1.4.2)\n",
      "Requirement already satisfied: threadpoolctl>=3.1.0 in /Users/sabareeshvangadari/Fetch_Assignment/venv/lib/python3.10/site-packages (from scikit-learn) (3.5.0)\n",
      "Note: you may need to restart the kernel to use updated packages.\n"
     ]
    }
   ],
   "source": [
    "pip install scikit-learn"
   ]
  },
  {
   "cell_type": "code",
   "execution_count": 10,
   "metadata": {},
   "outputs": [],
   "source": [
    "from sentence_transformers import SentenceTransformer\n",
    "import torch"
   ]
  },
  {
   "cell_type": "code",
   "execution_count": 11,
   "metadata": {},
   "outputs": [
    {
     "name": "stderr",
     "output_type": "stream",
     "text": [
      "No sentence-transformers model found with name distilbert-base-uncased. Creating a new one with mean pooling.\n"
     ]
    },
    {
     "data": {
      "text/plain": [
       "SentenceTransformer(\n",
       "  (0): Transformer({'max_seq_length': 512, 'do_lower_case': False}) with Transformer model: DistilBertModel \n",
       "  (1): Pooling({'word_embedding_dimension': 768, 'pooling_mode_cls_token': False, 'pooling_mode_mean_tokens': True, 'pooling_mode_max_tokens': False, 'pooling_mode_mean_sqrt_len_tokens': False, 'pooling_mode_weightedmean_tokens': False, 'pooling_mode_lasttoken': False, 'include_prompt': True})\n",
       ")"
      ]
     },
     "execution_count": 11,
     "metadata": {},
     "output_type": "execute_result"
    }
   ],
   "source": [
    "# Initialize the sentiment Transformer model \n",
    "\n",
    "model = SentenceTransformer('distilbert-base-uncased')\n",
    "model "
   ]
  },
  {
   "cell_type": "code",
   "execution_count": 12,
   "metadata": {},
   "outputs": [
    {
     "name": "stdout",
     "output_type": "stream",
     "text": [
      "Sentance 1                       :\"Apple releases the new iPhone this fall.\"\n",
      "Embeddings of first 6 dimensions: [-0.35644856 -0.07131387  0.40865803 -0.04822442  0.2467562  -0.19633032]....\n",
      "\n",
      "Sentance 2                       :\"The movie received excellent reviews from critics.\"\n",
      "Embeddings of first 6 dimensions: [ 0.333448   -0.22270063  0.00373817  0.11186788 -0.15513083  0.09906107]....\n",
      "\n",
      "Sentance 3                       :\"Climate change poses significant risks to biodiversity.\"\n",
      "Embeddings of first 6 dimensions: [ 0.16737251  0.24889603 -0.26863915  0.38667983  0.25752744 -0.44028884]....\n",
      "\n",
      "lenghth of Fixed Dimensions each sentence: 768\n"
     ]
    }
   ],
   "source": [
    "\n",
    "## Code Implementation for sentence Transformer \n",
    "\n",
    "def encode_sentences(sentences):\n",
    "    \"\"\"\n",
    "    Encodes a list of sentences into fixed-length embeddings.\n",
    "    Args:\n",
    "        sentences (list of str): Sentences to encode.\n",
    "    Returns:\n",
    "        torch.Tensor: Embeddings tensor.\n",
    "    \"\"\"\n",
    "    embedding = model.encode(sentences, convert_to_tensor=True)\n",
    "    return embedding\n",
    "\n",
    "\n",
    "\n",
    "###  Testing with Sample Sentence\n",
    "\n",
    "sample_sentences = [\n",
    "        \"Apple releases the new iPhone this fall.\",\n",
    "        \"The movie received excellent reviews from critics.\",\n",
    "        \"Climate change poses significant risks to biodiversity.\"\n",
    "    ]\n",
    "    \n",
    "embeddings = encode_sentences(sample_sentences)\n",
    "\n",
    "for i, sentence in enumerate(sample_sentences):\n",
    "    print(f'Sentance {i+1}                       :\\\"{sentence}\\\"')\n",
    "    print(f'Embeddings of first 6 dimensions: {embeddings[i][:6].cpu().numpy()}....\\n')\n",
    "\n",
    "print(f'lenghth of Fixed Dimensions each sentence: {len(embeddings[0])}' )\n"
   ]
  },
  {
   "cell_type": "markdown",
   "metadata": {},
   "source": [
    "### Note: Only the first six dimensions of each high-dimensional embedding are displayed for clarity ."
   ]
  },
  {
   "cell_type": "markdown",
   "metadata": {},
   "source": [
    "### 3. Architectural Choices Discussion\n",
    "\n",
    "#### **Transformer Backbone**\n",
    "\n",
    "- **Choice:** `distilbert-base-uncased` model Selected for its efficiency and lightweight nature compared to BERT, which speeds up training and inference.\n",
    "\n",
    "#### **Pooling Strategy**\n",
    "\n",
    "- **Choice:** Mean Pooling (default in `SentenceTransformer`)\n",
    "- **Reasoning:** Averages token embeddings to create a fixed-length sentence embedding, balancing simplicity and effectiveness in capturing semantic information.\n",
    "\n",
    "#### **Framework**\n",
    "\n",
    "- **Choice:** PyTorch which offers dynamic computation graphs and is widely supported in the NLP community, facilitating easy integration and customization.\n",
    "\n",
    "#### **Pre-trained Model Utilization**\n",
    "\n",
    "- **Choice:** Leveraged a pre-trained `distilbert-base-uncased` model\n",
    "- **Reasoning:** Utilizes transfer learning to benefit from extensive training on large datasets, reducing the need for extensive computational resources and training data.\n",
    "\n",
    "#### **Embedding Output Configuration**\n",
    "\n",
    "- **Choice:** Outputs embeddings as PyTorch tensors\n",
    "- **Reasoning:** Ensures compatibility with downstream tasks such as Named Entity Recognition (NER) or Sentiment Analysis, where tensor operations are essential.\n"
   ]
  },
  {
   "cell_type": "code",
   "execution_count": null,
   "metadata": {},
   "outputs": [],
   "source": []
  }
 ],
 "metadata": {
  "kernelspec": {
   "display_name": "venv",
   "language": "python",
   "name": "python3"
  },
  "language_info": {
   "codemirror_mode": {
    "name": "ipython",
    "version": 3
   },
   "file_extension": ".py",
   "mimetype": "text/x-python",
   "name": "python",
   "nbconvert_exporter": "python",
   "pygments_lexer": "ipython3",
   "version": "3.10.0"
  }
 },
 "nbformat": 4,
 "nbformat_minor": 2
}
